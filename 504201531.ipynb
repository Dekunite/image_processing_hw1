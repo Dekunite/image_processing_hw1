{
 "cells": [
  {
   "cell_type": "markdown",
   "source": [
    "Question 1-)"
   ],
   "metadata": {
    "collapsed": false
   }
  },
  {
   "cell_type": "code",
   "execution_count": 1,
   "metadata": {
    "collapsed": true,
    "pycharm": {
     "name": "#%%\n"
    }
   },
   "outputs": [],
   "source": [
    "import cv2\n",
    "import numpy as np\n",
    "import random\n",
    "from skimage.util import random_noise\n",
    "import matplotlib.pyplot as plt\n",
    "def print_hi(h):\n",
    "    image = cv2.imread(\"wiki.jpg\",0)\n",
    "    salt_pepper_prob = 0.03\n",
    "    random_numbers = (1,2,3,4,5,6,7,8)\n",
    "    N = random.choice(random_numbers)\n",
    "    test2 = ski_salt_pepper(image)\n",
    "    show_image(test2,1)\n",
    "\n",
    "def ski_salt_pepper(image):\n",
    "    noise_img = random_noise(image, mode='s&p')\n",
    "\n",
    "    # The above function returns a floating-point image\n",
    "    # on the range [0, 1], thus we changed it to 'uint8'\n",
    "    # and from [0,255]\n",
    "    noise_img = np.array(255*noise_img, dtype = 'uint8')\n",
    "    return noise_img\n",
    "\n",
    "def show_image(image, number):\n",
    "    name = \"S&p applied \" + str((number+1)) + \" time/s\"\n",
    "    cv2.imshow(name, image)\n",
    "    cv2.waitKey(0)\n",
    "    cv2.destroyAllWindows()\n",
    "\n",
    "# Press the green button in the gutter to run the script.\n",
    "if __name__ == '__main__':\n",
    "    print_hi('PyCharm')\n"
   ]
  },
  {
   "cell_type": "markdown",
   "source": [
    "Question 2-)"
   ],
   "metadata": {
    "collapsed": false,
    "pycharm": {
     "name": "#%% md\n"
    }
   }
  },
  {
   "cell_type": "code",
   "execution_count": null,
   "outputs": [],
   "source": [],
   "metadata": {
    "collapsed": false,
    "pycharm": {
     "name": "#%%\n"
    }
   }
  },
  {
   "cell_type": "markdown",
   "source": [
    "Question 3-)"
   ],
   "metadata": {
    "collapsed": false,
    "pycharm": {
     "name": "#%% md\n"
    }
   }
  },
  {
   "cell_type": "code",
   "execution_count": null,
   "outputs": [],
   "source": [],
   "metadata": {
    "collapsed": false,
    "pycharm": {
     "name": "#%%\n"
    }
   }
  },
  {
   "cell_type": "markdown",
   "source": [
    "Question 4"
   ],
   "metadata": {
    "collapsed": false,
    "pycharm": {
     "name": "#%% md\n"
    }
   }
  },
  {
   "cell_type": "code",
   "execution_count": null,
   "outputs": [],
   "source": [],
   "metadata": {
    "collapsed": false,
    "pycharm": {
     "name": "#%%"
    }
   }
  }
 ],
 "metadata": {
  "kernelspec": {
   "display_name": "Python 3",
   "language": "python",
   "name": "python3"
  },
  "language_info": {
   "codemirror_mode": {
    "name": "ipython",
    "version": 2
   },
   "file_extension": ".py",
   "mimetype": "text/x-python",
   "name": "python",
   "nbconvert_exporter": "python",
   "pygments_lexer": "ipython2",
   "version": "2.7.6"
  }
 },
 "nbformat": 4,
 "nbformat_minor": 0
}